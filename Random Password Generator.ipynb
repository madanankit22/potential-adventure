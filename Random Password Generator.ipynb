{
 "cells": [
  {
   "cell_type": "code",
   "execution_count": 43,
   "metadata": {},
   "outputs": [
    {
     "name": "stdout",
     "output_type": "stream",
     "text": [
      "S=:3p8Pb\n"
     ]
    }
   ],
   "source": [
    "import random\n",
    "import string\n",
    "\n",
    "\n",
    "\n",
    "smallletter=string.ascii_lowercase\n",
    "capsletter=string.ascii_uppercase\n",
    "Symbols=string.punctuation\n",
    "Numbers=string.digits\n",
    "m=[]\n",
    "\n",
    "m.extend(random.choices(capsletter,k=2))\n",
    "\n",
    "m.extend(random.choices(smallletter,k=2))\n",
    "\n",
    "m.extend(random.choices(Numbers,k=2))\n",
    "m.extend(random.choices(Symbols,k=2))\n",
    "m\n",
    "random.shuffle(m)\n",
    "print(\"\".join(m))"
   ]
  },
  {
   "cell_type": "code",
   "execution_count": null,
   "metadata": {},
   "outputs": [],
   "source": []
  }
 ],
 "metadata": {
  "kernelspec": {
   "display_name": "Python 3",
   "language": "python",
   "name": "python3"
  },
  "language_info": {
   "codemirror_mode": {
    "name": "ipython",
    "version": 3
   },
   "file_extension": ".py",
   "mimetype": "text/x-python",
   "name": "python",
   "nbconvert_exporter": "python",
   "pygments_lexer": "ipython3",
   "version": "3.8.5"
  }
 },
 "nbformat": 4,
 "nbformat_minor": 4
}
